{
 "cells": [
  {
   "cell_type": "code",
   "execution_count": 1,
   "metadata": {},
   "outputs": [],
   "source": [
    "import keras"
   ]
  },
  {
   "cell_type": "code",
   "execution_count": 2,
   "metadata": {},
   "outputs": [],
   "source": [
    "import pandas as pd\n",
    "import numpy as np\n",
    "import os,shutil"
   ]
  },
  {
   "cell_type": "code",
   "execution_count": 3,
   "metadata": {},
   "outputs": [],
   "source": [
    "File_path = './covid-chestxray-dataset-master/metadata.csv' \n",
    "Image_path = './covid-chestxray-dataset-master/images/'"
   ]
  },
  {
   "cell_type": "code",
   "execution_count": 4,
   "metadata": {},
   "outputs": [
    {
     "data": {
      "text/plain": [
       "(950, 30)"
      ]
     },
     "execution_count": 4,
     "metadata": {},
     "output_type": "execute_result"
    }
   ],
   "source": [
    "df1 = pd.read_csv(File_path)\n",
    "df1.shape"
   ]
  },
  {
   "cell_type": "code",
   "execution_count": 5,
   "metadata": {},
   "outputs": [
    {
     "data": {
      "text/html": [
       "<div>\n",
       "<style scoped>\n",
       "    .dataframe tbody tr th:only-of-type {\n",
       "        vertical-align: middle;\n",
       "    }\n",
       "\n",
       "    .dataframe tbody tr th {\n",
       "        vertical-align: top;\n",
       "    }\n",
       "\n",
       "    .dataframe thead th {\n",
       "        text-align: right;\n",
       "    }\n",
       "</style>\n",
       "<table border=\"1\" class=\"dataframe\">\n",
       "  <thead>\n",
       "    <tr style=\"text-align: right;\">\n",
       "      <th></th>\n",
       "      <th>patientid</th>\n",
       "      <th>offset</th>\n",
       "      <th>sex</th>\n",
       "      <th>age</th>\n",
       "      <th>finding</th>\n",
       "      <th>RT_PCR_positive</th>\n",
       "      <th>survival</th>\n",
       "      <th>intubated</th>\n",
       "      <th>intubation_present</th>\n",
       "      <th>went_icu</th>\n",
       "      <th>...</th>\n",
       "      <th>date</th>\n",
       "      <th>location</th>\n",
       "      <th>folder</th>\n",
       "      <th>filename</th>\n",
       "      <th>doi</th>\n",
       "      <th>url</th>\n",
       "      <th>license</th>\n",
       "      <th>clinical_notes</th>\n",
       "      <th>other_notes</th>\n",
       "      <th>Unnamed: 29</th>\n",
       "    </tr>\n",
       "  </thead>\n",
       "  <tbody>\n",
       "    <tr>\n",
       "      <th>0</th>\n",
       "      <td>2</td>\n",
       "      <td>0.0</td>\n",
       "      <td>M</td>\n",
       "      <td>65.0</td>\n",
       "      <td>Pneumonia/Viral/COVID-19</td>\n",
       "      <td>Y</td>\n",
       "      <td>Y</td>\n",
       "      <td>N</td>\n",
       "      <td>N</td>\n",
       "      <td>N</td>\n",
       "      <td>...</td>\n",
       "      <td>January 22, 2020</td>\n",
       "      <td>Cho Ray Hospital, Ho Chi Minh City, Vietnam</td>\n",
       "      <td>images</td>\n",
       "      <td>auntminnie-a-2020_01_28_23_51_6665_2020_01_28_...</td>\n",
       "      <td>10.1056/nejmc2001272</td>\n",
       "      <td>https://www.nejm.org/doi/full/10.1056/NEJMc200...</td>\n",
       "      <td>NaN</td>\n",
       "      <td>On January 22, 2020, a 65-year-old man with a ...</td>\n",
       "      <td>NaN</td>\n",
       "      <td>NaN</td>\n",
       "    </tr>\n",
       "    <tr>\n",
       "      <th>1</th>\n",
       "      <td>2</td>\n",
       "      <td>3.0</td>\n",
       "      <td>M</td>\n",
       "      <td>65.0</td>\n",
       "      <td>Pneumonia/Viral/COVID-19</td>\n",
       "      <td>Y</td>\n",
       "      <td>Y</td>\n",
       "      <td>N</td>\n",
       "      <td>N</td>\n",
       "      <td>N</td>\n",
       "      <td>...</td>\n",
       "      <td>January 25, 2020</td>\n",
       "      <td>Cho Ray Hospital, Ho Chi Minh City, Vietnam</td>\n",
       "      <td>images</td>\n",
       "      <td>auntminnie-b-2020_01_28_23_51_6665_2020_01_28_...</td>\n",
       "      <td>10.1056/nejmc2001272</td>\n",
       "      <td>https://www.nejm.org/doi/full/10.1056/NEJMc200...</td>\n",
       "      <td>NaN</td>\n",
       "      <td>On January 22, 2020, a 65-year-old man with a ...</td>\n",
       "      <td>NaN</td>\n",
       "      <td>NaN</td>\n",
       "    </tr>\n",
       "    <tr>\n",
       "      <th>2</th>\n",
       "      <td>2</td>\n",
       "      <td>5.0</td>\n",
       "      <td>M</td>\n",
       "      <td>65.0</td>\n",
       "      <td>Pneumonia/Viral/COVID-19</td>\n",
       "      <td>Y</td>\n",
       "      <td>Y</td>\n",
       "      <td>N</td>\n",
       "      <td>N</td>\n",
       "      <td>N</td>\n",
       "      <td>...</td>\n",
       "      <td>January 27, 2020</td>\n",
       "      <td>Cho Ray Hospital, Ho Chi Minh City, Vietnam</td>\n",
       "      <td>images</td>\n",
       "      <td>auntminnie-c-2020_01_28_23_51_6665_2020_01_28_...</td>\n",
       "      <td>10.1056/nejmc2001272</td>\n",
       "      <td>https://www.nejm.org/doi/full/10.1056/NEJMc200...</td>\n",
       "      <td>NaN</td>\n",
       "      <td>On January 22, 2020, a 65-year-old man with a ...</td>\n",
       "      <td>NaN</td>\n",
       "      <td>NaN</td>\n",
       "    </tr>\n",
       "    <tr>\n",
       "      <th>3</th>\n",
       "      <td>2</td>\n",
       "      <td>6.0</td>\n",
       "      <td>M</td>\n",
       "      <td>65.0</td>\n",
       "      <td>Pneumonia/Viral/COVID-19</td>\n",
       "      <td>Y</td>\n",
       "      <td>Y</td>\n",
       "      <td>N</td>\n",
       "      <td>N</td>\n",
       "      <td>N</td>\n",
       "      <td>...</td>\n",
       "      <td>January 28, 2020</td>\n",
       "      <td>Cho Ray Hospital, Ho Chi Minh City, Vietnam</td>\n",
       "      <td>images</td>\n",
       "      <td>auntminnie-d-2020_01_28_23_51_6665_2020_01_28_...</td>\n",
       "      <td>10.1056/nejmc2001272</td>\n",
       "      <td>https://www.nejm.org/doi/full/10.1056/NEJMc200...</td>\n",
       "      <td>NaN</td>\n",
       "      <td>On January 22, 2020, a 65-year-old man with a ...</td>\n",
       "      <td>NaN</td>\n",
       "      <td>NaN</td>\n",
       "    </tr>\n",
       "    <tr>\n",
       "      <th>4</th>\n",
       "      <td>4</td>\n",
       "      <td>0.0</td>\n",
       "      <td>F</td>\n",
       "      <td>52.0</td>\n",
       "      <td>Pneumonia/Viral/COVID-19</td>\n",
       "      <td>Y</td>\n",
       "      <td>NaN</td>\n",
       "      <td>N</td>\n",
       "      <td>N</td>\n",
       "      <td>N</td>\n",
       "      <td>...</td>\n",
       "      <td>January 25, 2020</td>\n",
       "      <td>Changhua Christian Hospital, Changhua City, Ta...</td>\n",
       "      <td>images</td>\n",
       "      <td>nejmc2001573_f1a.jpeg</td>\n",
       "      <td>10.1056/NEJMc2001573</td>\n",
       "      <td>https://www.nejm.org/doi/full/10.1056/NEJMc200...</td>\n",
       "      <td>NaN</td>\n",
       "      <td>diffuse infiltrates in the bilateral lower lungs</td>\n",
       "      <td>NaN</td>\n",
       "      <td>NaN</td>\n",
       "    </tr>\n",
       "    <tr>\n",
       "      <th>5</th>\n",
       "      <td>4</td>\n",
       "      <td>5.0</td>\n",
       "      <td>F</td>\n",
       "      <td>52.0</td>\n",
       "      <td>Pneumonia/Viral/COVID-19</td>\n",
       "      <td>Y</td>\n",
       "      <td>NaN</td>\n",
       "      <td>N</td>\n",
       "      <td>N</td>\n",
       "      <td>N</td>\n",
       "      <td>...</td>\n",
       "      <td>January 30, 2020</td>\n",
       "      <td>Changhua Christian Hospital, Changhua City, Ta...</td>\n",
       "      <td>images</td>\n",
       "      <td>nejmc2001573_f1b.jpeg</td>\n",
       "      <td>10.1056/NEJMc2001573</td>\n",
       "      <td>https://www.nejm.org/doi/full/10.1056/NEJMc200...</td>\n",
       "      <td>NaN</td>\n",
       "      <td>progressive diffuse interstitial opacities and...</td>\n",
       "      <td>NaN</td>\n",
       "      <td>NaN</td>\n",
       "    </tr>\n",
       "    <tr>\n",
       "      <th>6</th>\n",
       "      <td>5</td>\n",
       "      <td>NaN</td>\n",
       "      <td>NaN</td>\n",
       "      <td>NaN</td>\n",
       "      <td>Pneumonia</td>\n",
       "      <td>NaN</td>\n",
       "      <td>NaN</td>\n",
       "      <td>Y</td>\n",
       "      <td>Y</td>\n",
       "      <td>Y</td>\n",
       "      <td>...</td>\n",
       "      <td>2017</td>\n",
       "      <td>NaN</td>\n",
       "      <td>images</td>\n",
       "      <td>ARDSSevere.png</td>\n",
       "      <td>NaN</td>\n",
       "      <td>https://en.wikipedia.org/wiki/File:ARDSSevere.png</td>\n",
       "      <td>CC BY-SA</td>\n",
       "      <td>Severe ARDS. Person is intubated with an OG in...</td>\n",
       "      <td>NaN</td>\n",
       "      <td>NaN</td>\n",
       "    </tr>\n",
       "    <tr>\n",
       "      <th>7</th>\n",
       "      <td>6</td>\n",
       "      <td>0.0</td>\n",
       "      <td>NaN</td>\n",
       "      <td>NaN</td>\n",
       "      <td>Pneumonia/Viral/COVID-19</td>\n",
       "      <td>Y</td>\n",
       "      <td>NaN</td>\n",
       "      <td>Y</td>\n",
       "      <td>Y</td>\n",
       "      <td>Y</td>\n",
       "      <td>...</td>\n",
       "      <td>January 6, 2020</td>\n",
       "      <td>Wuhan Jinyintan Hospital, Wuhan, Hubei Provinc...</td>\n",
       "      <td>images</td>\n",
       "      <td>lancet-case2a.jpg</td>\n",
       "      <td>10.1016/S0140-6736(20)30211-7</td>\n",
       "      <td>https://www.thelancet.com/journals/lancet/arti...</td>\n",
       "      <td>NaN</td>\n",
       "      <td>Case 2: chest x-ray obtained on Jan 6 (2A). Th...</td>\n",
       "      <td>NaN</td>\n",
       "      <td>NaN</td>\n",
       "    </tr>\n",
       "    <tr>\n",
       "      <th>8</th>\n",
       "      <td>6</td>\n",
       "      <td>4.0</td>\n",
       "      <td>NaN</td>\n",
       "      <td>NaN</td>\n",
       "      <td>Pneumonia/Viral/COVID-19</td>\n",
       "      <td>Y</td>\n",
       "      <td>NaN</td>\n",
       "      <td>Y</td>\n",
       "      <td>Y</td>\n",
       "      <td>Y</td>\n",
       "      <td>...</td>\n",
       "      <td>January 10, 2020</td>\n",
       "      <td>Wuhan Jinyintan Hospital, Wuhan, Hubei Provinc...</td>\n",
       "      <td>images</td>\n",
       "      <td>lancet-case2b.jpg</td>\n",
       "      <td>10.1016/S0140-6736(20)30211-7</td>\n",
       "      <td>https://www.thelancet.com/journals/lancet/arti...</td>\n",
       "      <td>NaN</td>\n",
       "      <td>Case 2: chest x-ray obtained on Jan 6 (2A). Th...</td>\n",
       "      <td>NaN</td>\n",
       "      <td>NaN</td>\n",
       "    </tr>\n",
       "    <tr>\n",
       "      <th>9</th>\n",
       "      <td>3</td>\n",
       "      <td>4.0</td>\n",
       "      <td>M</td>\n",
       "      <td>74.0</td>\n",
       "      <td>Pneumonia/Viral/SARS</td>\n",
       "      <td>NaN</td>\n",
       "      <td>N</td>\n",
       "      <td>NaN</td>\n",
       "      <td>NaN</td>\n",
       "      <td>NaN</td>\n",
       "      <td>...</td>\n",
       "      <td>2004</td>\n",
       "      <td>Mount Sinai Hospital, Toronto, Ontario, Canada</td>\n",
       "      <td>images</td>\n",
       "      <td>SARS-10.1148rg.242035193-g04mr34g0-Fig8a-day0....</td>\n",
       "      <td>10.1148/rg.242035193</td>\n",
       "      <td>https://pubs.rsna.org/doi/10.1148/rg.242035193</td>\n",
       "      <td>NaN</td>\n",
       "      <td>SARS in a 74-year-old man who developed sympto...</td>\n",
       "      <td>NaN</td>\n",
       "      <td>NaN</td>\n",
       "    </tr>\n",
       "  </tbody>\n",
       "</table>\n",
       "<p>10 rows × 30 columns</p>\n",
       "</div>"
      ],
      "text/plain": [
       "  patientid  offset  sex   age                   finding RT_PCR_positive  \\\n",
       "0         2     0.0    M  65.0  Pneumonia/Viral/COVID-19               Y   \n",
       "1         2     3.0    M  65.0  Pneumonia/Viral/COVID-19               Y   \n",
       "2         2     5.0    M  65.0  Pneumonia/Viral/COVID-19               Y   \n",
       "3         2     6.0    M  65.0  Pneumonia/Viral/COVID-19               Y   \n",
       "4         4     0.0    F  52.0  Pneumonia/Viral/COVID-19               Y   \n",
       "5         4     5.0    F  52.0  Pneumonia/Viral/COVID-19               Y   \n",
       "6         5     NaN  NaN   NaN                 Pneumonia             NaN   \n",
       "7         6     0.0  NaN   NaN  Pneumonia/Viral/COVID-19               Y   \n",
       "8         6     4.0  NaN   NaN  Pneumonia/Viral/COVID-19               Y   \n",
       "9         3     4.0    M  74.0      Pneumonia/Viral/SARS             NaN   \n",
       "\n",
       "  survival intubated intubation_present went_icu  ...              date  \\\n",
       "0        Y         N                  N        N  ...  January 22, 2020   \n",
       "1        Y         N                  N        N  ...  January 25, 2020   \n",
       "2        Y         N                  N        N  ...  January 27, 2020   \n",
       "3        Y         N                  N        N  ...  January 28, 2020   \n",
       "4      NaN         N                  N        N  ...  January 25, 2020   \n",
       "5      NaN         N                  N        N  ...  January 30, 2020   \n",
       "6      NaN         Y                  Y        Y  ...              2017   \n",
       "7      NaN         Y                  Y        Y  ...   January 6, 2020   \n",
       "8      NaN         Y                  Y        Y  ...  January 10, 2020   \n",
       "9        N       NaN                NaN      NaN  ...              2004   \n",
       "\n",
       "                                            location  folder  \\\n",
       "0        Cho Ray Hospital, Ho Chi Minh City, Vietnam  images   \n",
       "1        Cho Ray Hospital, Ho Chi Minh City, Vietnam  images   \n",
       "2        Cho Ray Hospital, Ho Chi Minh City, Vietnam  images   \n",
       "3        Cho Ray Hospital, Ho Chi Minh City, Vietnam  images   \n",
       "4  Changhua Christian Hospital, Changhua City, Ta...  images   \n",
       "5  Changhua Christian Hospital, Changhua City, Ta...  images   \n",
       "6                                                NaN  images   \n",
       "7  Wuhan Jinyintan Hospital, Wuhan, Hubei Provinc...  images   \n",
       "8  Wuhan Jinyintan Hospital, Wuhan, Hubei Provinc...  images   \n",
       "9     Mount Sinai Hospital, Toronto, Ontario, Canada  images   \n",
       "\n",
       "                                            filename  \\\n",
       "0  auntminnie-a-2020_01_28_23_51_6665_2020_01_28_...   \n",
       "1  auntminnie-b-2020_01_28_23_51_6665_2020_01_28_...   \n",
       "2  auntminnie-c-2020_01_28_23_51_6665_2020_01_28_...   \n",
       "3  auntminnie-d-2020_01_28_23_51_6665_2020_01_28_...   \n",
       "4                              nejmc2001573_f1a.jpeg   \n",
       "5                              nejmc2001573_f1b.jpeg   \n",
       "6                                     ARDSSevere.png   \n",
       "7                                  lancet-case2a.jpg   \n",
       "8                                  lancet-case2b.jpg   \n",
       "9  SARS-10.1148rg.242035193-g04mr34g0-Fig8a-day0....   \n",
       "\n",
       "                             doi  \\\n",
       "0           10.1056/nejmc2001272   \n",
       "1           10.1056/nejmc2001272   \n",
       "2           10.1056/nejmc2001272   \n",
       "3           10.1056/nejmc2001272   \n",
       "4           10.1056/NEJMc2001573   \n",
       "5           10.1056/NEJMc2001573   \n",
       "6                            NaN   \n",
       "7  10.1016/S0140-6736(20)30211-7   \n",
       "8  10.1016/S0140-6736(20)30211-7   \n",
       "9           10.1148/rg.242035193   \n",
       "\n",
       "                                                 url   license  \\\n",
       "0  https://www.nejm.org/doi/full/10.1056/NEJMc200...       NaN   \n",
       "1  https://www.nejm.org/doi/full/10.1056/NEJMc200...       NaN   \n",
       "2  https://www.nejm.org/doi/full/10.1056/NEJMc200...       NaN   \n",
       "3  https://www.nejm.org/doi/full/10.1056/NEJMc200...       NaN   \n",
       "4  https://www.nejm.org/doi/full/10.1056/NEJMc200...       NaN   \n",
       "5  https://www.nejm.org/doi/full/10.1056/NEJMc200...       NaN   \n",
       "6  https://en.wikipedia.org/wiki/File:ARDSSevere.png  CC BY-SA   \n",
       "7  https://www.thelancet.com/journals/lancet/arti...       NaN   \n",
       "8  https://www.thelancet.com/journals/lancet/arti...       NaN   \n",
       "9     https://pubs.rsna.org/doi/10.1148/rg.242035193       NaN   \n",
       "\n",
       "                                      clinical_notes other_notes Unnamed: 29  \n",
       "0  On January 22, 2020, a 65-year-old man with a ...         NaN         NaN  \n",
       "1  On January 22, 2020, a 65-year-old man with a ...         NaN         NaN  \n",
       "2  On January 22, 2020, a 65-year-old man with a ...         NaN         NaN  \n",
       "3  On January 22, 2020, a 65-year-old man with a ...         NaN         NaN  \n",
       "4   diffuse infiltrates in the bilateral lower lungs         NaN         NaN  \n",
       "5  progressive diffuse interstitial opacities and...         NaN         NaN  \n",
       "6  Severe ARDS. Person is intubated with an OG in...         NaN         NaN  \n",
       "7  Case 2: chest x-ray obtained on Jan 6 (2A). Th...         NaN         NaN  \n",
       "8  Case 2: chest x-ray obtained on Jan 6 (2A). Th...         NaN         NaN  \n",
       "9  SARS in a 74-year-old man who developed sympto...         NaN         NaN  \n",
       "\n",
       "[10 rows x 30 columns]"
      ]
     },
     "execution_count": 5,
     "metadata": {},
     "output_type": "execute_result"
    }
   ],
   "source": [
    "df1.head(n=10)"
   ]
  },
  {
   "cell_type": "code",
   "execution_count": 6,
   "metadata": {},
   "outputs": [
    {
     "data": {
      "text/plain": [
       "(array(['No Finding', 'Pneumonia', 'Pneumonia/Aspiration',\n",
       "        'Pneumonia/Bacterial', 'Pneumonia/Bacterial/Chlamydophila',\n",
       "        'Pneumonia/Bacterial/E.Coli', 'Pneumonia/Bacterial/Klebsiella',\n",
       "        'Pneumonia/Bacterial/Legionella', 'Pneumonia/Bacterial/Mycoplasma',\n",
       "        'Pneumonia/Bacterial/Nocardia',\n",
       "        'Pneumonia/Bacterial/Staphylococcus/MRSA',\n",
       "        'Pneumonia/Bacterial/Streptococcus',\n",
       "        'Pneumonia/Fungal/Aspergillosis', 'Pneumonia/Fungal/Pneumocystis',\n",
       "        'Pneumonia/Lipoid', 'Pneumonia/Viral/COVID-19',\n",
       "        'Pneumonia/Viral/Herpes ', 'Pneumonia/Viral/Influenza',\n",
       "        'Pneumonia/Viral/Influenza/H1N1', 'Pneumonia/Viral/MERS-CoV',\n",
       "        'Pneumonia/Viral/SARS', 'Pneumonia/Viral/Varicella',\n",
       "        'Tuberculosis', 'Unknown', 'todo'], dtype=object),\n",
       " array([ 86,   6, 789, 512, 166, 168, 192, 206, 522, 799, 912,  63, 764,\n",
       "         61, 505,   0, 765, 538, 755, 809,   9, 507, 752, 419, 730],\n",
       "       dtype=int64))"
      ]
     },
     "execution_count": 6,
     "metadata": {},
     "output_type": "execute_result"
    }
   ],
   "source": [
    "###Finding different type of finding present\n",
    "np.unique(df1['finding'],return_index=True)"
   ]
  },
  {
   "cell_type": "code",
   "execution_count": 7,
   "metadata": {},
   "outputs": [
    {
     "name": "stdout",
     "output_type": "stream",
     "text": [
      "196\n"
     ]
    }
   ],
   "source": [
    "###Counting the number of finding with COVID-19 present\n",
    "cnt = 0\n",
    "for i in range(df1.shape[0]):\n",
    "    if 'COVID-19' in df1.iloc[i]['finding'] and df1.iloc[i]['view']=='PA':\n",
    "        cnt+=1\n",
    "print(cnt)"
   ]
  },
  {
   "cell_type": "code",
   "execution_count": null,
   "metadata": {},
   "outputs": [],
   "source": [
    "#### Moving all covid related data to another directory\n",
    "\n",
    "\n",
    "Target_folder = './train_dataset/Covid'\n",
    "if not os.path.exists(Target_folder):\n",
    "    os.mkdir(Target_folder)\n",
    "    print('Covid folder created')\n"
   ]
  },
  {
   "cell_type": "code",
   "execution_count": null,
   "metadata": {},
   "outputs": [],
   "source": [
    "###Moving covid X-rays to another folder\n",
    "cnt=0\n",
    "for i in range(df1.shape[0]):\n",
    "    if 'COVID-19' in df1.iloc[i]['finding'] and df1.iloc[i]['view']=='PA':\n",
    "        image_path = os.path.join(Image_path,df1.iloc[i]['filename'])\n",
    "        image_copy_path = os.path.join(Target_folder,df1.iloc[i]['filename'])\n",
    "        shutil.copy2(image_path,image_copy_path)\n",
    "        cnt+=1\n",
    "print(cnt)"
   ]
  },
  {
   "cell_type": "code",
   "execution_count": null,
   "metadata": {},
   "outputs": [],
   "source": [
    "###creating folder of normal x-rays.We will be taking data from the Kaggle dataset\n",
    "\n",
    "if not os.path.exists('./train_dataset/Normal'):\n",
    "    os.mkdir('./train_dataset/Normal')\n",
    "    print('created')\n",
    "\n"
   ]
  },
  {
   "cell_type": "code",
   "execution_count": null,
   "metadata": {},
   "outputs": [],
   "source": [
    "####We will take only 198 x-rays image from the kaggle to prevent imbalance data\n",
    "import random\n",
    "random.seed(5)"
   ]
  },
  {
   "cell_type": "code",
   "execution_count": null,
   "metadata": {},
   "outputs": [],
   "source": [
    "normal_image = os.listdir('./chest_xray/train/NORMAL')\n",
    "random.shuffle(normal_image)"
   ]
  },
  {
   "cell_type": "code",
   "execution_count": null,
   "metadata": {},
   "outputs": [],
   "source": [
    "for i in range(196):\n",
    "    img_name = normal_image[i]\n",
    "    source = os.path.join('./chest_xray/train/NORMAL',img_name)\n",
    "    dest = os.path.join('./train_dataset/Normal',img_name)\n",
    "    shutil.copy2(source,dest)"
   ]
  },
  {
   "cell_type": "code",
   "execution_count": null,
   "metadata": {},
   "outputs": [],
   "source": [
    "###Creating directory for storing validation data\n",
    "if not os.path.exists('./val_dataset'):\n",
    "    os.mkdir('./val_dataset')\n",
    "    print('Created')"
   ]
  },
  {
   "cell_type": "code",
   "execution_count": null,
   "metadata": {},
   "outputs": [],
   "source": [
    "if not os.path.exists('./val_dataset/Covid'):\n",
    "    os.mkdir('./val_dataset/Covid')\n",
    "    print('created')\n",
    "\n",
    "if not os.path.exists('./val_dataset/Normal'):\n",
    "    os.mkdir('./val_dataset/Normal')\n",
    "    print('created')"
   ]
  },
  {
   "cell_type": "code",
   "execution_count": null,
   "metadata": {},
   "outputs": [],
   "source": [
    "###Moving 20% of training dataset to validation dataset\n",
    "num = (int)(0.1*len(os.listdir('./train_dataset/Covid')))\n",
    "cnt=0\n",
    "for files in os.listdir('./train_dataset/Covid'):\n",
    "    source = os.path.join('./train_dataset/Covid',files)\n",
    "    dest = os.path.join('./val_dataset/Covid',files)\n",
    "    shutil.move(source,dest)\n",
    "    cnt+=1\n",
    "    if cnt>=num:\n",
    "        break\n",
    "    "
   ]
  },
  {
   "cell_type": "code",
   "execution_count": null,
   "metadata": {},
   "outputs": [],
   "source": [
    "cnt=0\n",
    "num = (int)(0.1*len(os.listdir('./train_dataset/Normal')))\n",
    "for files in os.listdir('./train_dataset/Normal'):\n",
    "    source = os.path.join('./train_dataset/Normal',files)\n",
    "    dest = os.path.join('./val_dataset/Normal',files)\n",
    "    shutil.move(source,dest)\n",
    "    cnt+=1\n",
    "    if cnt>=num:\n",
    "        break\n",
    "    "
   ]
  },
  {
   "cell_type": "code",
   "execution_count": 8,
   "metadata": {},
   "outputs": [],
   "source": [
    "from keras.preprocessing.image import ImageDataGenerator"
   ]
  },
  {
   "cell_type": "code",
   "execution_count": 9,
   "metadata": {},
   "outputs": [],
   "source": [
    "###Performing Image Agumentation\n",
    "train_gen = ImageDataGenerator(\n",
    "    rescale = 1.0/255,\n",
    "    shear_range=0.2,\n",
    "    zoom_range=0.2,\n",
    "    horizontal_flip=True\n",
    ")\n",
    "\n",
    "val_gen = ImageDataGenerator(\n",
    "    rescale = 1.0/255\n",
    ")"
   ]
  },
  {
   "cell_type": "code",
   "execution_count": 10,
   "metadata": {},
   "outputs": [
    {
     "name": "stdout",
     "output_type": "stream",
     "text": [
      "Found 336 images belonging to 2 classes.\n"
     ]
    }
   ],
   "source": [
    "##Creating train generator\n",
    "train_generator = train_gen.flow_from_directory(\n",
    "    './train_dataset',\n",
    "    target_size=(224,224),\n",
    "    batch_size=32,\n",
    "    class_mode='binary'\n",
    ")"
   ]
  },
  {
   "cell_type": "code",
   "execution_count": 11,
   "metadata": {},
   "outputs": [
    {
     "data": {
      "text/plain": [
       "{'Covid': 0, 'Normal': 1}"
      ]
     },
     "execution_count": 11,
     "metadata": {},
     "output_type": "execute_result"
    }
   ],
   "source": [
    "train_generator.class_indices"
   ]
  },
  {
   "cell_type": "code",
   "execution_count": 12,
   "metadata": {},
   "outputs": [
    {
     "name": "stdout",
     "output_type": "stream",
     "text": [
      "Found 55 images belonging to 2 classes.\n"
     ]
    }
   ],
   "source": [
    "##Creating validation generator\n",
    "val_generator = val_gen.flow_from_directory(\n",
    "    './val_dataset',\n",
    "    target_size=(224,224),\n",
    "    batch_size=32,\n",
    "    class_mode='binary'\n",
    ")"
   ]
  },
  {
   "cell_type": "code",
   "execution_count": 13,
   "metadata": {},
   "outputs": [],
   "source": [
    "from keras import Sequential\n",
    "from keras.layers import *"
   ]
  },
  {
   "cell_type": "code",
   "execution_count": 14,
   "metadata": {},
   "outputs": [
    {
     "name": "stdout",
     "output_type": "stream",
     "text": [
      "Model: \"sequential\"\n",
      "_________________________________________________________________\n",
      "Layer (type)                 Output Shape              Param #   \n",
      "=================================================================\n",
      "conv2d (Conv2D)              (None, 222, 222, 32)      896       \n",
      "_________________________________________________________________\n",
      "conv2d_1 (Conv2D)            (None, 220, 220, 64)      18496     \n",
      "_________________________________________________________________\n",
      "max_pooling2d (MaxPooling2D) (None, 110, 110, 64)      0         \n",
      "_________________________________________________________________\n",
      "dropout (Dropout)            (None, 110, 110, 64)      0         \n",
      "_________________________________________________________________\n",
      "conv2d_2 (Conv2D)            (None, 108, 108, 64)      36928     \n",
      "_________________________________________________________________\n",
      "max_pooling2d_1 (MaxPooling2 (None, 54, 54, 64)        0         \n",
      "_________________________________________________________________\n",
      "dropout_1 (Dropout)          (None, 54, 54, 64)        0         \n",
      "_________________________________________________________________\n",
      "conv2d_3 (Conv2D)            (None, 52, 52, 128)       73856     \n",
      "_________________________________________________________________\n",
      "max_pooling2d_2 (MaxPooling2 (None, 26, 26, 128)       0         \n",
      "_________________________________________________________________\n",
      "dropout_2 (Dropout)          (None, 26, 26, 128)       0         \n",
      "_________________________________________________________________\n",
      "flatten (Flatten)            (None, 86528)             0         \n",
      "_________________________________________________________________\n",
      "dense (Dense)                (None, 64)                5537856   \n",
      "_________________________________________________________________\n",
      "dropout_3 (Dropout)          (None, 64)                0         \n",
      "_________________________________________________________________\n",
      "dense_1 (Dense)              (None, 1)                 65        \n",
      "=================================================================\n",
      "Total params: 5,668,097\n",
      "Trainable params: 5,668,097\n",
      "Non-trainable params: 0\n",
      "_________________________________________________________________\n"
     ]
    }
   ],
   "source": [
    "### Model Architecture\n",
    "model = Sequential()\n",
    "model.add(Conv2D(32,(3,3),activation='relu',input_shape=(224,224,3)))\n",
    "model.add(Conv2D(64,(3,3),activation='relu'))\n",
    "model.add(MaxPooling2D((2,2)))\n",
    "model.add(Dropout(0.5))\n",
    "\n",
    "model.add(Conv2D(64,(3,3),activation='relu'))\n",
    "model.add(MaxPooling2D((2,2)))\n",
    "model.add(Dropout(0.25))\n",
    "\n",
    "model.add(Conv2D(128,(3,3),activation='relu'))\n",
    "model.add(MaxPooling2D((2,2)))\n",
    "model.add(Dropout(0.25))\n",
    "\n",
    "model.add(Flatten())\n",
    "model.add(Dense(64,activation='relu'))\n",
    "model.add(Dropout(0.5))\n",
    "model.add(Dense(1,activation='sigmoid'))\n",
    "\n",
    "model.compile(optimizer='adam',loss=keras.losses.binary_crossentropy,metrics=['accuracy'])\n",
    "model.summary()"
   ]
  },
  {
   "cell_type": "code",
   "execution_count": 15,
   "metadata": {},
   "outputs": [
    {
     "name": "stderr",
     "output_type": "stream",
     "text": [
      "C:\\Users\\Nishant kumar\\Anaconda3\\envs\\finalattempt\\lib\\site-packages\\tensorflow\\python\\keras\\engine\\training.py:1844: UserWarning: `Model.fit_generator` is deprecated and will be removed in a future version. Please use `Model.fit`, which supports generators.\n",
      "  warnings.warn('`Model.fit_generator` is deprecated and '\n"
     ]
    },
    {
     "name": "stdout",
     "output_type": "stream",
     "text": [
      "Epoch 1/10\n",
      "8/8 [==============================] - 67s 7s/step - loss: 0.8471 - accuracy: 0.5393 - val_loss: 0.6756 - val_accuracy: 0.8545\n",
      "Epoch 2/10\n",
      "8/8 [==============================] - 53s 7s/step - loss: 0.6076 - accuracy: 0.7030 - val_loss: 0.4159 - val_accuracy: 0.9273\n",
      "Epoch 3/10\n",
      "8/8 [==============================] - 51s 6s/step - loss: 0.4201 - accuracy: 0.7965 - val_loss: 0.2652 - val_accuracy: 0.9818\n",
      "Epoch 4/10\n",
      "8/8 [==============================] - 52s 7s/step - loss: 0.3258 - accuracy: 0.8820 - val_loss: 0.1364 - val_accuracy: 0.9818\n",
      "Epoch 5/10\n",
      "8/8 [==============================] - 55s 7s/step - loss: 0.1490 - accuracy: 0.9590 - val_loss: 0.1097 - val_accuracy: 0.9818\n",
      "Epoch 6/10\n",
      "8/8 [==============================] - 60s 7s/step - loss: 0.2309 - accuracy: 0.9326 - val_loss: 0.1317 - val_accuracy: 0.9636\n",
      "Epoch 7/10\n",
      "8/8 [==============================] - 56s 7s/step - loss: 0.1463 - accuracy: 0.9705 - val_loss: 0.0674 - val_accuracy: 0.9636\n",
      "Epoch 8/10\n",
      "8/8 [==============================] - 56s 7s/step - loss: 0.1622 - accuracy: 0.9408 - val_loss: 0.2508 - val_accuracy: 0.9818\n",
      "Epoch 9/10\n",
      "8/8 [==============================] - 55s 7s/step - loss: 0.1894 - accuracy: 0.9587 - val_loss: 0.0789 - val_accuracy: 0.9818\n",
      "Epoch 10/10\n",
      "8/8 [==============================] - 53s 7s/step - loss: 0.1880 - accuracy: 0.9346 - val_loss: 0.1141 - val_accuracy: 0.9636\n"
     ]
    }
   ],
   "source": [
    "###Fitting the training data\n",
    "hist = model.fit_generator(\n",
    "    train_generator,\n",
    "    steps_per_epoch=8,\n",
    "    epochs=10,\n",
    "    validation_data=val_generator,\n",
    "    validation_steps=2\n",
    ")"
   ]
  },
  {
   "cell_type": "code",
   "execution_count": 16,
   "metadata": {},
   "outputs": [
    {
     "name": "stdout",
     "output_type": "stream",
     "text": [
      "2/2 [==============================] - 5s 1s/step - loss: 0.1141 - accuracy: 0.9636\n"
     ]
    },
    {
     "data": {
      "text/plain": [
       "[0.11411184072494507, 0.9636363387107849]"
      ]
     },
     "execution_count": 16,
     "metadata": {},
     "output_type": "execute_result"
    }
   ],
   "source": [
    "model.evaluate(val_generator)"
   ]
  },
  {
   "cell_type": "code",
   "execution_count": 17,
   "metadata": {},
   "outputs": [
    {
     "name": "stdout",
     "output_type": "stream",
     "text": [
      "11/11 [==============================] - 34s 3s/step - loss: 0.1997 - accuracy: 0.9762\n"
     ]
    },
    {
     "data": {
      "text/plain": [
       "[0.19974711537361145, 0.976190447807312]"
      ]
     },
     "execution_count": 17,
     "metadata": {},
     "output_type": "execute_result"
    }
   ],
   "source": [
    "model.evaluate(train_generator)"
   ]
  },
  {
   "cell_type": "code",
   "execution_count": null,
   "metadata": {},
   "outputs": [],
   "source": []
  },
  {
   "cell_type": "code",
   "execution_count": null,
   "metadata": {},
   "outputs": [],
   "source": []
  },
  {
   "cell_type": "code",
   "execution_count": null,
   "metadata": {},
   "outputs": [],
   "source": []
  }
 ],
 "metadata": {
  "kernelspec": {
   "display_name": "Python 3",
   "language": "python",
   "name": "python3"
  },
  "language_info": {
   "codemirror_mode": {
    "name": "ipython",
    "version": 3
   },
   "file_extension": ".py",
   "mimetype": "text/x-python",
   "name": "python",
   "nbconvert_exporter": "python",
   "pygments_lexer": "ipython3",
   "version": "3.6.12"
  }
 },
 "nbformat": 4,
 "nbformat_minor": 4
}
